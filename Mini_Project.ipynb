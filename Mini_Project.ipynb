{
  "nbformat": 4,
  "nbformat_minor": 0,
  "metadata": {
    "colab": {
      "name": "Mini Project.ipynb",
      "provenance": [],
      "authorship_tag": "ABX9TyPHM+D1A+StezTwchREPRcK",
      "include_colab_link": true
    },
    "kernelspec": {
      "name": "python3",
      "display_name": "Python 3"
    },
    "language_info": {
      "name": "python"
    }
  },
  "cells": [
    {
      "cell_type": "markdown",
      "metadata": {
        "id": "view-in-github",
        "colab_type": "text"
      },
      "source": [
        "<a href=\"https://colab.research.google.com/github/gankidisaicharan/Mini-project/blob/main/Mini_Project.ipynb\" target=\"_parent\"><img src=\"https://colab.research.google.com/assets/colab-badge.svg\" alt=\"Open In Colab\"/></a>"
      ]
    },
    {
      "cell_type": "code",
      "metadata": {
        "colab": {
          "base_uri": "https://localhost:8080/"
        },
        "id": "opRyob2LqL8t",
        "outputId": "cd11f41d-c8de-4549-f6a8-26298874813a"
      },
      "source": [
        "#Installing bing image downloader into the colab to collect data\n",
        "!pip install bing-image-downloader"
      ],
      "execution_count": 1,
      "outputs": [
        {
          "output_type": "stream",
          "text": [
            "Collecting bing-image-downloader\n",
            "  Downloading https://files.pythonhosted.org/packages/0d/bf/537a61030b84ae4cd5022d5c7b014fd9bc3ce7c02358919153a6658a61d3/bing_image_downloader-1.0.4-py3-none-any.whl\n",
            "Installing collected packages: bing-image-downloader\n",
            "Successfully installed bing-image-downloader-1.0.4\n"
          ],
          "name": "stdout"
        }
      ]
    },
    {
      "cell_type": "code",
      "metadata": {
        "id": "mHC3HvBlqb-1"
      },
      "source": [
        "#Create a directory named images \n",
        "!mkdir images"
      ],
      "execution_count": 2,
      "outputs": []
    },
    {
      "cell_type": "code",
      "metadata": {
        "colab": {
          "base_uri": "https://localhost:8080/"
        },
        "id": "bxjivjdiqiEn",
        "outputId": "415c6359-d386-4e29-a77f-860cb96cf23b"
      },
      "source": [
        "from bing_image_downloader import downloader\n",
        "# Downloading the images of Apple from bing image downloader\n",
        "downloader.download(\"Apple\",limit=30, output_dir=\"images\",adult_filter_off=True)"
      ],
      "execution_count": 3,
      "outputs": [
        {
          "output_type": "stream",
          "text": [
            "\n",
            "\n",
            "[!!]Indexing page: 1\n",
            "\n",
            "[%] Indexed 11 Images on Page 1.\n",
            "\n",
            "===============================================\n",
            "\n",
            "[%] Downloading Image #1 from https://hative.com/wp-content/uploads/2014/10/no-carve-pumpkin-ideas/4-caramel-apple.jpg\n",
            "[%] File Downloaded !\n",
            "\n",
            "[%] Downloading Image #2 from http://cdn.iphonehacks.com/wp-content/uploads/2013/09/115@2xiphone.png\n",
            "[%] File Downloaded !\n",
            "\n",
            "[%] Downloading Image #3 from https://divnil.com/wallpaper/iphone/img/app/i/p/iphone20wallpaper-16_ba985ee1814b6050b64b94b4c8da47e4_raw.jpg\n",
            "[%] File Downloaded !\n",
            "\n",
            "[%] Downloading Image #4 from http://www.iclarified.com/images/news/43810/196687/196687.png\n",
            "[%] File Downloaded !\n",
            "\n",
            "[%] Downloading Image #5 from https://www.hdwallpapers.in/download/sky_city-1280x720.jpg\n",
            "[%] File Downloaded !\n",
            "\n",
            "[%] Downloading Image #6 from https://www.hdwallpapers.in/download/google_pixel_3_stock-540x960.jpg\n",
            "[%] File Downloaded !\n",
            "\n",
            "[%] Downloading Image #7 from https://www.setaswall.com/wp-content/uploads/2018/04/Planets-Wallpaper-1080x2280-380x802.jpg\n",
            "[%] File Downloaded !\n",
            "\n",
            "[%] Downloading Image #8 from https://www.hdwallpapers.in/download/marshmello_4k-540x960.jpg\n",
            "[%] File Downloaded !\n",
            "\n",
            "[%] Downloading Image #9 from https://forums.imore.com/attachments/iphone-5/36532d1376580567t-show-us-your-iphone-5-homescreen-trippy.jpg\n",
            "[%] File Downloaded !\n",
            "\n",
            "[%] Downloading Image #10 from https://neighborfoodblog.com/wp-content/uploads/2018/08/Oreo-Ice-Cream-Dessert.jpg\n",
            "[%] File Downloaded !\n",
            "\n",
            "[%] Downloading Image #11 from http://www.beesdiy.com/wp-content/uploads/2016/02/How-To-Make-Princess-Pull-Apart-Cake3.jpg\n",
            "[%] File Downloaded !\n",
            "\n",
            "\n",
            "\n",
            "[!!]Indexing page: 2\n",
            "\n",
            "[%] Indexed 12 Images on Page 2.\n",
            "\n",
            "===============================================\n",
            "\n",
            "[%] Downloading Image #12 from http://www.iclarified.com/images/news/43810/196678/196678.png\n",
            "[%] File Downloaded !\n",
            "\n",
            "[%] Downloading Image #13 from https://wallpapershome.com/images/wallpapers/forest-5120x2880-5k-4k-wallpaper-8k-rocks-trees-plants-waterfall-river-583.jpg\n",
            "[%] File Downloaded !\n",
            "\n",
            "[%] Downloading Image #14 from https://www.fonewalls.com/wp-content/uploads/720x1520-HD-Wallpaper-for-Mobile-Phone-033-300x633.jpg\n",
            "[%] File Downloaded !\n",
            "\n",
            "[%] Downloading Image #15 from https://www.hdwallpapers.in/download/apple_mac_os_x_el_capitan-1366x768.jpg\n",
            "[%] File Downloaded !\n",
            "\n",
            "[%] Downloading Image #16 from https://cdn.architecturendesign.net/wp-content/uploads/2016/05/AD-Galaxy-Cakes-Space-Sweets-Nebula-Cosmos-Universe-12.jpg\n",
            "[%] File Downloaded !\n",
            "\n",
            "[%] Downloading Image #17 from http://www.iclarified.com/images/news/51516/243486/243486.jpg\n",
            "[%] File Downloaded !\n",
            "\n",
            "[%] Downloading Image #18 from https://www.iclarified.com/images/news/43810/196666/196666.png\n",
            "[%] File Downloaded !\n",
            "\n",
            "[%] Downloading Image #19 from http://cdn.iphonehacks.com/wp-content/uploads/2014/07/N1.jpg\n",
            "[%] File Downloaded !\n",
            "\n",
            "[%] Downloading Image #20 from http://lirent.net/wp-content/uploads/2012/02/iphone-android-apple-wallpaper-abstract15.jpg\n",
            "[%] File Downloaded !\n",
            "\n",
            "[%] Downloading Image #21 from http://papers.co/wallpaper/papers.co-nx66-mountain-waterfall-summer-amazon-nature-34-iphone6-plus-wallpaper.jpg\n",
            "[%] File Downloaded !\n",
            "\n",
            "[%] Downloading Image #22 from https://www.fonewalls.com/wp-content/uploads/828x1792-Background-HD-Wallpaper-254-300x649.jpg\n",
            "[%] File Downloaded !\n",
            "\n",
            "[%] Downloading Image #23 from https://wallpapershome.com/images/wallpapers/niagara-falls-1440x2560-waterfall-new-york-usa-4k-14937.jpg\n",
            "[%] File Downloaded !\n",
            "\n",
            "\n",
            "\n",
            "[!!]Indexing page: 3\n",
            "\n",
            "[%] Indexed 10 Images on Page 3.\n",
            "\n",
            "===============================================\n",
            "\n",
            "[%] Downloading Image #24 from http://cdn.iphonehacks.com/wp-content/uploads/2013/09/115@2xiphone.png\n",
            "[%] File Downloaded !\n",
            "\n",
            "[%] Downloading Image #25 from https://www.hdwallpapers.in/download/marshmello_4k-540x960.jpg\n",
            "[%] File Downloaded !\n",
            "\n",
            "[%] Downloading Image #26 from http://www.iclarified.com/images/news/43810/196687/196687.png\n",
            "[%] File Downloaded !\n",
            "\n",
            "[%] Downloading Image #27 from https://www.setaswall.com/wp-content/uploads/2018/04/Planets-Wallpaper-1080x2280-380x802.jpg\n",
            "[%] File Downloaded !\n",
            "\n",
            "[%] Downloading Image #28 from https://www.hdwallpapers.in/download/google_pixel_3_stock-540x960.jpg\n",
            "[%] File Downloaded !\n",
            "\n",
            "[%] Downloading Image #29 from https://forums.imore.com/attachments/iphone-5/36532d1376580567t-show-us-your-iphone-5-homescreen-trippy.jpg\n",
            "[%] File Downloaded !\n",
            "\n",
            "[%] Downloading Image #30 from https://divnil.com/wallpaper/iphone/img/app/i/p/iphone20wallpaper-16_ba985ee1814b6050b64b94b4c8da47e4_raw.jpg\n",
            "[%] File Downloaded !\n",
            "\n",
            "\n",
            "\n",
            "[%] Done. Downloaded 30 images.\n",
            "\n",
            "===============================================\n",
            "\n"
          ],
          "name": "stdout"
        }
      ]
    },
    {
      "cell_type": "code",
      "metadata": {
        "colab": {
          "base_uri": "https://localhost:8080/"
        },
        "id": "vnV52Wm9q-Zm",
        "outputId": "8d38c825-8e8d-4c54-e687-e2d8ef3754fc"
      },
      "source": [
        "# Downloading the images of Banana from bing image downloader\n",
        "downloader.download(\"Banana\",limit=30, output_dir=\"images\",adult_filter_off=True)"
      ],
      "execution_count": 4,
      "outputs": [
        {
          "output_type": "stream",
          "text": [
            "\n",
            "\n",
            "[!!]Indexing page: 1\n",
            "\n",
            "[%] Indexed 12 Images on Page 1.\n",
            "\n",
            "===============================================\n",
            "\n",
            "[%] Downloading Image #1 from https://www.thetreecenter.com/wp-content/uploads/dwarf-cavendish-banana-2.jpg\n",
            "[%] File Downloaded !\n",
            "\n",
            "[%] Downloading Image #2 from https://www.anime-planet.com/images/characters/aslan-jade-callenreese-81270.jpg\n",
            "[%] File Downloaded !\n",
            "\n",
            "[%] Downloading Image #3 from https://www.wunderweib.de/assets/field/image/907/breakfast-banana-oat-pancakes.jpg\n",
            "[%] File Downloaded !\n",
            "\n",
            "[%] Downloading Image #4 from https://blog.tobi.com/wp-content/uploads/2017/10/shutterstock_665554735.jpg\n",
            "[%] File Downloaded !\n",
            "\n",
            "[%] Downloading Image #5 from http://www.thecrepesofwrath.com/images/2016/11/PBBananaCake/PBSnackCake-12.jpg\n",
            "[%] File Downloaded !\n",
            "\n",
            "[%] Downloading Image #6 from https://www.tenforums.com/attachments/customization/7261d1485948589t-wallpaper-dump-hdr-city-scape-most-best-anime-luxury-city-widescreen-free-hd-new-year-1816309.jpg\n",
            "[%] File Downloaded !\n",
            "\n",
            "[%] Downloading Image #7 from http://teamjimmyjoe.com/wp-content/uploads/2017/05/funny-pole-sign-seen-cat-love-him-ninja-take-one.jpg\n",
            "[%] File Downloaded !\n",
            "\n",
            "[%] Downloading Image #8 from http://mgonline.com/media/Images/a/alocasia04.jpg\n",
            "[%] File Downloaded !\n",
            "\n",
            "[%] Downloading Image #9 from http://messagenote.com/wp-content/uploads/2015/06/indoor-zen-garden.jpg\n",
            "[%] File Downloaded !\n",
            "\n",
            "[%] Downloading Image #10 from https://www.trendfrenzy.net/wp-content/uploads/2016/05/his-and-her-wedding-cakes-7.jpeg\n",
            "[%] File Downloaded !\n",
            "\n",
            "[%] Downloading Image #11 from http://4.bp.blogspot.com/_gRS1FxZIrJA/TI65o_Ew_gI/AAAAAAAAB4o/9kyr1f9mU1o/s1600/007.JPG\n",
            "[%] File Downloaded !\n",
            "\n",
            "[%] Downloading Image #12 from http://www.birthdayexpress.com/partyideas/wp-content/uploads/2015/07/Minions-Cake-10.jpg\n",
            "[!] Issue getting: http://www.birthdayexpress.com/partyideas/wp-content/uploads/2015/07/Minions-Cake-10.jpg\n",
            "[!] Error:: HTTP Error 403: Forbidden\n",
            "\n",
            "\n",
            "[!!]Indexing page: 2\n",
            "\n",
            "[%] Indexed 12 Images on Page 2.\n",
            "\n",
            "===============================================\n",
            "\n",
            "[%] Downloading Image #12 from https://www.thetreecenter.com/wp-content/uploads/dwarf-cavendish-banana-2.jpg\n",
            "[%] File Downloaded !\n",
            "\n",
            "[%] Downloading Image #13 from https://www.anime-planet.com/images/characters/aslan-jade-callenreese-81270.jpg\n",
            "[%] File Downloaded !\n",
            "\n",
            "[%] Downloading Image #14 from https://www.wunderweib.de/assets/field/image/907/breakfast-banana-oat-pancakes.jpg\n",
            "[%] File Downloaded !\n",
            "\n",
            "[%] Downloading Image #15 from https://blog.tobi.com/wp-content/uploads/2017/10/shutterstock_665554735.jpg\n",
            "[%] File Downloaded !\n",
            "\n",
            "[%] Downloading Image #16 from http://www.thecrepesofwrath.com/images/2016/11/PBBananaCake/PBSnackCake-12.jpg\n",
            "[%] File Downloaded !\n",
            "\n",
            "[%] Downloading Image #17 from https://www.tenforums.com/attachments/customization/7261d1485948589t-wallpaper-dump-hdr-city-scape-most-best-anime-luxury-city-widescreen-free-hd-new-year-1816309.jpg\n",
            "[%] File Downloaded !\n",
            "\n",
            "[%] Downloading Image #18 from http://teamjimmyjoe.com/wp-content/uploads/2017/05/funny-pole-sign-seen-cat-love-him-ninja-take-one.jpg\n",
            "[%] File Downloaded !\n",
            "\n",
            "[%] Downloading Image #19 from http://mgonline.com/media/Images/a/alocasia04.jpg\n",
            "[%] File Downloaded !\n",
            "\n",
            "[%] Downloading Image #20 from http://messagenote.com/wp-content/uploads/2015/06/indoor-zen-garden.jpg\n",
            "[%] File Downloaded !\n",
            "\n",
            "[%] Downloading Image #21 from https://www.trendfrenzy.net/wp-content/uploads/2016/05/his-and-her-wedding-cakes-7.jpeg\n",
            "[%] File Downloaded !\n",
            "\n",
            "[%] Downloading Image #22 from http://4.bp.blogspot.com/_gRS1FxZIrJA/TI65o_Ew_gI/AAAAAAAAB4o/9kyr1f9mU1o/s1600/007.JPG\n",
            "[%] File Downloaded !\n",
            "\n",
            "[%] Downloading Image #23 from http://www.birthdayexpress.com/partyideas/wp-content/uploads/2015/07/Minions-Cake-10.jpg\n",
            "[!] Issue getting: http://www.birthdayexpress.com/partyideas/wp-content/uploads/2015/07/Minions-Cake-10.jpg\n",
            "[!] Error:: HTTP Error 403: Forbidden\n",
            "\n",
            "\n",
            "[!!]Indexing page: 3\n",
            "\n",
            "[%] Indexed 11 Images on Page 3.\n",
            "\n",
            "===============================================\n",
            "\n",
            "[%] Downloading Image #23 from https://www.anime-planet.com/images/characters/aslan-jade-callenreese-81270.jpg\n",
            "[%] File Downloaded !\n",
            "\n",
            "[%] Downloading Image #24 from https://www.tenforums.com/attachments/customization/7261d1485948589t-wallpaper-dump-hdr-city-scape-most-best-anime-luxury-city-widescreen-free-hd-new-year-1816309.jpg\n",
            "[%] File Downloaded !\n",
            "\n",
            "[%] Downloading Image #25 from https://blog.tobi.com/wp-content/uploads/2017/10/shutterstock_665554735.jpg\n",
            "[%] File Downloaded !\n",
            "\n",
            "[%] Downloading Image #26 from http://www.thecrepesofwrath.com/images/2016/11/PBBananaCake/PBSnackCake-12.jpg\n",
            "[%] File Downloaded !\n",
            "\n",
            "[%] Downloading Image #27 from http://www.birthdayexpress.com/partyideas/wp-content/uploads/2015/07/Minions-Cake-10.jpg\n",
            "[!] Issue getting: http://www.birthdayexpress.com/partyideas/wp-content/uploads/2015/07/Minions-Cake-10.jpg\n",
            "[!] Error:: HTTP Error 403: Forbidden\n",
            "[%] Downloading Image #27 from http://mgonline.com/media/Images/a/alocasia04.jpg\n",
            "[%] File Downloaded !\n",
            "\n",
            "[%] Downloading Image #28 from https://www.wunderweib.de/assets/field/image/907/breakfast-banana-oat-pancakes.jpg\n",
            "[%] File Downloaded !\n",
            "\n",
            "[%] Downloading Image #29 from https://www.trendfrenzy.net/wp-content/uploads/2016/05/his-and-her-wedding-cakes-7.jpeg\n",
            "[%] File Downloaded !\n",
            "\n",
            "[%] Downloading Image #30 from http://4.bp.blogspot.com/_gRS1FxZIrJA/TI65o_Ew_gI/AAAAAAAAB4o/9kyr1f9mU1o/s1600/007.JPG\n",
            "[%] File Downloaded !\n",
            "\n",
            "\n",
            "\n",
            "[%] Done. Downloaded 30 images.\n",
            "\n",
            "===============================================\n",
            "\n"
          ],
          "name": "stdout"
        }
      ]
    },
    {
      "cell_type": "code",
      "metadata": {
        "colab": {
          "base_uri": "https://localhost:8080/"
        },
        "id": "0hmY1RMnraJs",
        "outputId": "e05dc6bc-01ab-4267-e794-5c6ba6565396"
      },
      "source": [
        "# Downloading the images of Oranges from bing image downloader\n",
        "downloader.download(\"Oranges\",limit=30, output_dir=\"images\",adult_filter_off=True)"
      ],
      "execution_count": 5,
      "outputs": [
        {
          "output_type": "stream",
          "text": [
            "\n",
            "\n",
            "[!!]Indexing page: 1\n",
            "\n",
            "[%] Indexed 12 Images on Page 1.\n",
            "\n",
            "===============================================\n",
            "\n",
            "[%] Downloading Image #1 from http://www.invisibleoranges.com/files/2011/08/atheist-unquestionablepresence-thumbnail.jpg?w=600&amp;h=0&amp;zc=1&amp;s=0&amp;a=t&amp;q=89\n",
            "[%] File Downloaded !\n",
            "\n",
            "[%] Downloading Image #2 from http://2.bp.blogspot.com/-paXfmn-tBfc/USD2_kI_q9I/AAAAAAAAK8I/F0actjt1O8o/s1600/john+singer+sargent+tbn+7.jpg\n",
            "[%] File Downloaded !\n",
            "\n",
            "[%] Downloading Image #3 from https://www.buechelstone.com/wp-content/uploads/2019/05/HERO-1280x660-Spalted-Oak-Siena-Interior-Stone-Veneer-Fieldledge-Veneer-Masonry-FIELDstone-LEDGEstone-01a.jpg\n",
            "[%] File Downloaded !\n",
            "\n",
            "[%] Downloading Image #4 from http://clothspot.co.uk/wp-content/uploads/2014/08/Grape-cotton-lawn-fabric.jpg\n",
            "[%] File Downloaded !\n",
            "\n",
            "[%] Downloading Image #5 from https://cinderellova.com/wp-content/uploads/2019/12/comment-secher-oranges-noel.jpeg\n",
            "[%] File Downloaded !\n",
            "\n",
            "[%] Downloading Image #6 from https://www.flowergirldressforless.com/mm5/images/feed/UA_705_CUS_F.jpg\n",
            "[%] File Downloaded !\n",
            "\n",
            "[%] Downloading Image #7 from https://media.architecturaldigest.com/photos/58d42319e34bbc355f09a76f/16:9/w_1280,c_limit/katie-ridder-paint-color-01.jpg?mbid=social_retweet\n",
            "[%] File Downloaded !\n",
            "\n",
            "[%] Downloading Image #8 from https://www.wallpapers13.com/wp-content/uploads/2015/11/Dahlias-flowers-bunch-1024x768.jpg\n",
            "[%] File Downloaded !\n",
            "\n",
            "[%] Downloading Image #9 from https://www.wedding-venues.co.uk/sites/default/files/5.leaves-karenflowerphotography-wedding-flowers-in-season-october.jpg\n",
            "[%] File Downloaded !\n",
            "\n",
            "[%] Downloading Image #10 from https://cdn.decorpad.com/photos/2011/06/17/835e0f1c07da.jpg\n",
            "[%] File Downloaded !\n",
            "\n",
            "[%] Downloading Image #11 from http://christmastreedecoratingideas.balsamhill.com/wp-content/uploads/2014/11/unnamed3.jpg\n",
            "[%] File Downloaded !\n",
            "\n",
            "[%] Downloading Image #12 from http://www.flowershopnetwork.com/blog/wp-content/uploads/2013/11/Sympathy-tribute-from-Edgewater-Home-and-Garden-in-Portage-WI.jpg\n",
            "[%] File Downloaded !\n",
            "\n",
            "\n",
            "\n",
            "[!!]Indexing page: 2\n",
            "\n",
            "[%] Indexed 12 Images on Page 2.\n",
            "\n",
            "===============================================\n",
            "\n",
            "[%] Downloading Image #13 from http://www.invisibleoranges.com/files/2011/08/atheist-unquestionablepresence-thumbnail.jpg?w=600&amp;h=0&amp;zc=1&amp;s=0&amp;a=t&amp;q=89\n",
            "[%] File Downloaded !\n",
            "\n",
            "[%] Downloading Image #14 from http://2.bp.blogspot.com/-paXfmn-tBfc/USD2_kI_q9I/AAAAAAAAK8I/F0actjt1O8o/s1600/john+singer+sargent+tbn+7.jpg\n",
            "[%] File Downloaded !\n",
            "\n",
            "[%] Downloading Image #15 from https://www.buechelstone.com/wp-content/uploads/2019/05/HERO-1280x660-Spalted-Oak-Siena-Interior-Stone-Veneer-Fieldledge-Veneer-Masonry-FIELDstone-LEDGEstone-01a.jpg\n",
            "[%] File Downloaded !\n",
            "\n",
            "[%] Downloading Image #16 from http://clothspot.co.uk/wp-content/uploads/2014/08/Grape-cotton-lawn-fabric.jpg\n",
            "[%] File Downloaded !\n",
            "\n",
            "[%] Downloading Image #17 from https://cinderellova.com/wp-content/uploads/2019/12/comment-secher-oranges-noel.jpeg\n",
            "[%] File Downloaded !\n",
            "\n",
            "[%] Downloading Image #18 from https://www.flowergirldressforless.com/mm5/images/feed/UA_705_CUS_F.jpg\n",
            "[%] File Downloaded !\n",
            "\n",
            "[%] Downloading Image #19 from https://media.architecturaldigest.com/photos/58d42319e34bbc355f09a76f/16:9/w_1280,c_limit/katie-ridder-paint-color-01.jpg?mbid=social_retweet\n",
            "[%] File Downloaded !\n",
            "\n",
            "[%] Downloading Image #20 from https://www.wallpapers13.com/wp-content/uploads/2015/11/Dahlias-flowers-bunch-1024x768.jpg\n",
            "[%] File Downloaded !\n",
            "\n",
            "[%] Downloading Image #21 from https://www.wedding-venues.co.uk/sites/default/files/5.leaves-karenflowerphotography-wedding-flowers-in-season-october.jpg\n",
            "[%] File Downloaded !\n",
            "\n",
            "[%] Downloading Image #22 from https://cdn.decorpad.com/photos/2011/06/17/835e0f1c07da.jpg\n",
            "[%] File Downloaded !\n",
            "\n",
            "[%] Downloading Image #23 from http://christmastreedecoratingideas.balsamhill.com/wp-content/uploads/2014/11/unnamed3.jpg\n",
            "[%] File Downloaded !\n",
            "\n",
            "[%] Downloading Image #24 from http://www.flowershopnetwork.com/blog/wp-content/uploads/2013/11/Sympathy-tribute-from-Edgewater-Home-and-Garden-in-Portage-WI.jpg\n",
            "[%] File Downloaded !\n",
            "\n",
            "\n",
            "\n",
            "[!!]Indexing page: 3\n",
            "\n",
            "[%] Indexed 11 Images on Page 3.\n",
            "\n",
            "===============================================\n",
            "\n",
            "[%] Downloading Image #25 from https://cinderellova.com/wp-content/uploads/2019/12/comment-secher-oranges-noel.jpeg\n",
            "[%] File Downloaded !\n",
            "\n",
            "[%] Downloading Image #26 from https://cdn.decorpad.com/photos/2011/06/17/835e0f1c07da.jpg\n",
            "[%] File Downloaded !\n",
            "\n",
            "[%] Downloading Image #27 from https://media.architecturaldigest.com/photos/58d42319e34bbc355f09a76f/16:9/w_1280,c_limit/katie-ridder-paint-color-01.jpg?mbid=social_retweet\n",
            "[%] File Downloaded !\n",
            "\n",
            "[%] Downloading Image #28 from https://www.wallpapers13.com/wp-content/uploads/2015/11/Dahlias-flowers-bunch-1024x768.jpg\n",
            "[%] File Downloaded !\n",
            "\n",
            "[%] Downloading Image #29 from https://www.wedding-venues.co.uk/sites/default/files/5.leaves-karenflowerphotography-wedding-flowers-in-season-october.jpg\n",
            "[%] File Downloaded !\n",
            "\n",
            "[%] Downloading Image #30 from http://www.flowershopnetwork.com/blog/wp-content/uploads/2013/11/Sympathy-tribute-from-Edgewater-Home-and-Garden-in-Portage-WI.jpg\n",
            "[%] File Downloaded !\n",
            "\n",
            "\n",
            "\n",
            "[%] Done. Downloaded 30 images.\n",
            "\n",
            "===============================================\n",
            "\n"
          ],
          "name": "stdout"
        }
      ]
    },
    {
      "cell_type": "code",
      "metadata": {
        "colab": {
          "base_uri": "https://localhost:8080/"
        },
        "id": "wPu9l2GDrlu8",
        "outputId": "99839a65-9657-4002-cb9b-01d0df1d7d03"
      },
      "source": [
        "# Downloading the images of Kiwi from bing image downloader\n",
        "downloader.download(\"Kiwi\",limit=30, output_dir=\"images\",adult_filter_off=True)"
      ],
      "execution_count": 6,
      "outputs": [
        {
          "output_type": "stream",
          "text": [
            "\n",
            "\n",
            "[!!]Indexing page: 1\n",
            "\n",
            "[%] Indexed 12 Images on Page 1.\n",
            "\n",
            "===============================================\n",
            "\n",
            "[%] Downloading Image #1 from https://i.pinimg.com/736x/d8/07/dd/d807dd3cf700ae04de69f3a6354e0aa9.jpg\n",
            "[%] File Downloaded !\n",
            "\n",
            "[%] Downloading Image #2 from https://www.newshub.co.nz/home/entertainment/2020/01/kiwi-superstar-benee-on-how-she-stays-grounded-amid-fame/_jcr_content/par/video/image.dynimg.1280.q75.jpg/v1579594441911/THEPROJECT-benee-1120.jpg\n",
            "[%] File Downloaded !\n",
            "\n",
            "[%] Downloading Image #3 from https://www.simulatorgamemods.com/wp-content/uploads/2019/04/fs19-kiwi-farm-starter-map-4x-multi-fruit-v3-3.jpg\n",
            "[%] File Downloaded !\n",
            "\n",
            "[%] Downloading Image #4 from https://cdn.kiwicollection.com/media/property/PR002968/xl/002968-04-372 - Arsenali Lounge Bar.jpg\n",
            "[!] Issue getting: https://cdn.kiwicollection.com/media/property/PR002968/xl/002968-04-372 - Arsenali Lounge Bar.jpg\n",
            "[!] Error:: URL can't contain control characters. '/media/property/PR002968/xl/002968-04-372 - Arsenali Lounge Bar.jpg' (found at least ' ')\n",
            "[%] Downloading Image #4 from https://cdn.kiwicollection.com/media/property/PR006637/xl/006637-04-bedroom-balcony.jpg\n",
            "[%] File Downloaded !\n",
            "\n",
            "[%] Downloading Image #5 from http://cdn.kiwicollection.com/media/property/PR000554/xl/000554-05-indoor-swimming-pool.jpg\n",
            "[%] File Downloaded !\n",
            "\n",
            "[%] Downloading Image #6 from https://www.newshub.co.nz/home/sport/2018/09/boxing-heavyweight-contender-junior-fa-reveals-health-scare-almost-ended-career/_jcr_content/par/video/image.dynimg.1280.q75.jpg/v1537640944117/photosport-180623-JuniorFa-1120.jpg\n",
            "[%] File Downloaded !\n",
            "\n",
            "[%] Downloading Image #7 from https://hative.com/wp-content/uploads/2015/05/summer-drink-recipes/5-summer-drink-recipes.jpg\n",
            "[%] File Downloaded !\n",
            "\n",
            "[%] Downloading Image #8 from https://www.planetfigure.com/attachments/germane-030-jpg.132776/\n",
            "[%] File Downloaded !\n",
            "\n",
            "[%] Downloading Image #9 from http://www.exoticatropicals.com/wp-content/uploads/2013/03/cordyline-cameroon-ti-plant.jpg\n",
            "[%] File Downloaded !\n",
            "\n",
            "[%] Downloading Image #10 from https://www.recreoviral.com/wp-content/uploads/2017/02/mapache.jpg\n",
            "[%] File Downloaded !\n",
            "\n",
            "[%] Downloading Image #11 from https://banner2.kisspng.com/20171201/f08/blood-png-image-5a217a97ae6643.3034836215121435117144.jpg\n",
            "[%] File Downloaded !\n",
            "\n",
            "\n",
            "\n",
            "[!!]Indexing page: 2\n",
            "\n",
            "[%] Indexed 12 Images on Page 2.\n",
            "\n",
            "===============================================\n",
            "\n",
            "[%] Downloading Image #12 from https://i.pinimg.com/736x/d8/07/dd/d807dd3cf700ae04de69f3a6354e0aa9.jpg\n",
            "[%] File Downloaded !\n",
            "\n",
            "[%] Downloading Image #13 from https://www.newshub.co.nz/home/entertainment/2020/01/kiwi-superstar-benee-on-how-she-stays-grounded-amid-fame/_jcr_content/par/video/image.dynimg.1280.q75.jpg/v1579594441911/THEPROJECT-benee-1120.jpg\n",
            "[%] File Downloaded !\n",
            "\n",
            "[%] Downloading Image #14 from https://www.simulatorgamemods.com/wp-content/uploads/2019/04/fs19-kiwi-farm-starter-map-4x-multi-fruit-v3-3.jpg\n",
            "[%] File Downloaded !\n",
            "\n",
            "[%] Downloading Image #15 from https://cdn.kiwicollection.com/media/property/PR002968/xl/002968-04-372 - Arsenali Lounge Bar.jpg\n",
            "[!] Issue getting: https://cdn.kiwicollection.com/media/property/PR002968/xl/002968-04-372 - Arsenali Lounge Bar.jpg\n",
            "[!] Error:: URL can't contain control characters. '/media/property/PR002968/xl/002968-04-372 - Arsenali Lounge Bar.jpg' (found at least ' ')\n",
            "[%] Downloading Image #15 from https://cdn.kiwicollection.com/media/property/PR006637/xl/006637-04-bedroom-balcony.jpg\n",
            "[%] File Downloaded !\n",
            "\n",
            "[%] Downloading Image #16 from http://cdn.kiwicollection.com/media/property/PR000554/xl/000554-05-indoor-swimming-pool.jpg\n",
            "[%] File Downloaded !\n",
            "\n",
            "[%] Downloading Image #17 from https://www.newshub.co.nz/home/sport/2018/09/boxing-heavyweight-contender-junior-fa-reveals-health-scare-almost-ended-career/_jcr_content/par/video/image.dynimg.1280.q75.jpg/v1537640944117/photosport-180623-JuniorFa-1120.jpg\n",
            "[%] File Downloaded !\n",
            "\n",
            "[%] Downloading Image #18 from https://hative.com/wp-content/uploads/2015/05/summer-drink-recipes/5-summer-drink-recipes.jpg\n",
            "[%] File Downloaded !\n",
            "\n",
            "[%] Downloading Image #19 from https://www.planetfigure.com/attachments/germane-030-jpg.132776/\n",
            "[%] File Downloaded !\n",
            "\n",
            "[%] Downloading Image #20 from http://www.exoticatropicals.com/wp-content/uploads/2013/03/cordyline-cameroon-ti-plant.jpg\n",
            "[%] File Downloaded !\n",
            "\n",
            "[%] Downloading Image #21 from https://www.recreoviral.com/wp-content/uploads/2017/02/mapache.jpg\n",
            "[%] File Downloaded !\n",
            "\n",
            "[%] Downloading Image #22 from https://banner2.kisspng.com/20171201/f08/blood-png-image-5a217a97ae6643.3034836215121435117144.jpg\n",
            "[%] File Downloaded !\n",
            "\n",
            "\n",
            "\n",
            "[!!]Indexing page: 3\n",
            "\n",
            "[%] Indexed 11 Images on Page 3.\n",
            "\n",
            "===============================================\n",
            "\n",
            "[%] Downloading Image #23 from https://www.newshub.co.nz/home/entertainment/2020/01/kiwi-superstar-benee-on-how-she-stays-grounded-amid-fame/_jcr_content/par/video/image.dynimg.1280.q75.jpg/v1579594441911/THEPROJECT-benee-1120.jpg\n",
            "[%] File Downloaded !\n",
            "\n",
            "[%] Downloading Image #24 from https://www.simulatorgamemods.com/wp-content/uploads/2019/04/fs19-kiwi-farm-starter-map-4x-multi-fruit-v3-3.jpg\n",
            "[%] File Downloaded !\n",
            "\n",
            "[%] Downloading Image #25 from https://cdn.kiwicollection.com/media/property/PR002968/xl/002968-04-372 - Arsenali Lounge Bar.jpg\n",
            "[!] Issue getting: https://cdn.kiwicollection.com/media/property/PR002968/xl/002968-04-372 - Arsenali Lounge Bar.jpg\n",
            "[!] Error:: URL can't contain control characters. '/media/property/PR002968/xl/002968-04-372 - Arsenali Lounge Bar.jpg' (found at least ' ')\n",
            "[%] Downloading Image #25 from https://cdn.kiwicollection.com/media/property/PR006637/xl/006637-04-bedroom-balcony.jpg\n",
            "[%] File Downloaded !\n",
            "\n",
            "[%] Downloading Image #26 from http://cdn.kiwicollection.com/media/property/PR000554/xl/000554-05-indoor-swimming-pool.jpg\n",
            "[%] File Downloaded !\n",
            "\n",
            "[%] Downloading Image #27 from https://www.newshub.co.nz/home/sport/2018/09/boxing-heavyweight-contender-junior-fa-reveals-health-scare-almost-ended-career/_jcr_content/par/video/image.dynimg.1280.q75.jpg/v1537640944117/photosport-180623-JuniorFa-1120.jpg\n",
            "[%] File Downloaded !\n",
            "\n",
            "[%] Downloading Image #28 from https://hative.com/wp-content/uploads/2015/05/summer-drink-recipes/5-summer-drink-recipes.jpg\n",
            "[%] File Downloaded !\n",
            "\n",
            "[%] Downloading Image #29 from https://www.planetfigure.com/attachments/germane-030-jpg.132776/\n",
            "[%] File Downloaded !\n",
            "\n",
            "[%] Downloading Image #30 from http://www.exoticatropicals.com/wp-content/uploads/2013/03/cordyline-cameroon-ti-plant.jpg\n",
            "[%] File Downloaded !\n",
            "\n",
            "\n",
            "\n",
            "[%] Done. Downloaded 30 images.\n",
            "\n",
            "===============================================\n",
            "\n"
          ],
          "name": "stdout"
        }
      ]
    },
    {
      "cell_type": "code",
      "metadata": {
        "id": "DOd84ySNrxqS"
      },
      "source": [
        "#importing all the required liberaries \n",
        "import os\n",
        "import matplotlib.pyplot as plt\n",
        "import numpy as np\n",
        "from skimage.io import imread\n",
        "from skimage.transform import resize"
      ],
      "execution_count": 7,
      "outputs": []
    },
    {
      "cell_type": "code",
      "metadata": {
        "id": "mOv6QHI6r4cy"
      },
      "source": [
        "flattened_data=[]\n",
        "images=[]\n",
        "target=[]"
      ],
      "execution_count": 8,
      "outputs": []
    },
    {
      "cell_type": "code",
      "metadata": {
        "colab": {
          "base_uri": "https://localhost:8080/"
        },
        "id": "TbJrirnXr6tk",
        "outputId": "a47ea69f-e4ce-4330-ea57-2e6702547495"
      },
      "source": [
        "# Obtaining the path of all the data\n",
        "datas='/content/images'\n",
        "contents=['Apple','Banana','Oranges','Kiwi']\n",
        "for content in contents:\n",
        "  indexing=contents.index(content)\n",
        "  print(indexing)\n",
        "  path=os.path.join(datas,content)\n",
        "  print(path)\n",
        "  for image in os.listdir(path):\n",
        "    images_array=imread(os.path.join(path,image))\n",
        "    #print(images_array.shape) # To know the dimensions of the data\n",
        "    image_resized=resize(images_array,(150,150,3)) # Resizing the data\n",
        "    flattened_data.append(image_resized.flatten()) #Flattening the data\n",
        "    images.append(image_resized)\n",
        "    target.append(indexing)\n",
        "  \n",
        "  \n",
        "flattened_data=np.array(flattened_data)\n",
        "target=np.array(target)\n",
        "images=np.array(images)"
      ],
      "execution_count": 9,
      "outputs": [
        {
          "output_type": "stream",
          "text": [
            "0\n",
            "/content/images/Apple\n",
            "1\n",
            "/content/images/Banana\n",
            "2\n",
            "/content/images/Oranges\n",
            "3\n",
            "/content/images/Kiwi\n"
          ],
          "name": "stdout"
        }
      ]
    },
    {
      "cell_type": "code",
      "metadata": {
        "colab": {
          "base_uri": "https://localhost:8080/"
        },
        "id": "2t7bBrDnr9B-",
        "outputId": "9a12fb32-2650-46bc-fd3c-aa56d2f741cf"
      },
      "source": [
        "flattened_data[0]"
      ],
      "execution_count": 10,
      "outputs": [
        {
          "output_type": "execute_result",
          "data": {
            "text/plain": [
              "array([0.06732026, 0.0751634 , 0.06339869, ..., 0.01895425, 0.01895425,\n",
              "       0.01111111])"
            ]
          },
          "metadata": {
            "tags": []
          },
          "execution_count": 10
        }
      ]
    },
    {
      "cell_type": "code",
      "metadata": {
        "id": "F7zJfFi6sMuT"
      },
      "source": [
        "# Splitting the data into training and testing data\n",
        "from sklearn.model_selection import train_test_split\n",
        "x_train,x_test,y_train,y_test= train_test_split(flattened_data,target,test_size=0.3,random_state=0,stratify=target)"
      ],
      "execution_count": 11,
      "outputs": []
    },
    {
      "cell_type": "code",
      "metadata": {
        "colab": {
          "base_uri": "https://localhost:8080/"
        },
        "id": "vEzSnmH5sPu1",
        "outputId": "ad70fd0a-04f6-408d-db1a-a7705665ee7a"
      },
      "source": [
        "# Algorithm: Support Vector Machine(SVM)\n",
        "\n",
        "from sklearn.model_selection import GridSearchCV\n",
        "from sklearn import svm\n",
        "param_grid= [\n",
        "             {'C':[1,10,100,1000],'kernel':['linear']},\n",
        "             {'C':[1,10,100,1000],'gamma':[0.001,0.0001],'kernel':['rbf']},\n",
        "]\n",
        "svc = svm.SVC(probability=True)\n",
        "clf = GridSearchCV(svc,param_grid)\n",
        "clf.fit(x_train,y_train)"
      ],
      "execution_count": 12,
      "outputs": [
        {
          "output_type": "execute_result",
          "data": {
            "text/plain": [
              "GridSearchCV(cv=None, error_score=nan,\n",
              "             estimator=SVC(C=1.0, break_ties=False, cache_size=200,\n",
              "                           class_weight=None, coef0=0.0,\n",
              "                           decision_function_shape='ovr', degree=3,\n",
              "                           gamma='scale', kernel='rbf', max_iter=-1,\n",
              "                           probability=True, random_state=None, shrinking=True,\n",
              "                           tol=0.001, verbose=False),\n",
              "             iid='deprecated', n_jobs=None,\n",
              "             param_grid=[{'C': [1, 10, 100, 1000], 'kernel': ['linear']},\n",
              "                         {'C': [1, 10, 100, 1000], 'gamma': [0.001, 0.0001],\n",
              "                          'kernel': ['rbf']}],\n",
              "             pre_dispatch='2*n_jobs', refit=True, return_train_score=False,\n",
              "             scoring=None, verbose=0)"
            ]
          },
          "metadata": {
            "tags": []
          },
          "execution_count": 12
        }
      ]
    },
    {
      "cell_type": "code",
      "metadata": {
        "colab": {
          "base_uri": "https://localhost:8080/"
        },
        "id": "EMADm-kusTO5",
        "outputId": "72a17229-9c6a-43cc-ff2e-472d766b0647"
      },
      "source": [
        "y_pred = clf.predict(x_test)\n",
        "y_pred"
      ],
      "execution_count": 13,
      "outputs": [
        {
          "output_type": "execute_result",
          "data": {
            "text/plain": [
              "array([0, 2, 1, 0, 3, 3, 0, 2, 0, 1, 2, 2, 3, 0, 0, 0, 0, 3, 0, 2, 0, 3,\n",
              "       0, 2, 3, 2, 0, 3, 2, 0, 2, 3, 0, 3, 1, 1])"
            ]
          },
          "metadata": {
            "tags": []
          },
          "execution_count": 13
        }
      ]
    },
    {
      "cell_type": "code",
      "metadata": {
        "colab": {
          "base_uri": "https://localhost:8080/"
        },
        "id": "ya8LW6uMs0Dj",
        "outputId": "c0b63367-a3ab-4b98-a22b-ac628384dd2a"
      },
      "source": [
        "y_test"
      ],
      "execution_count": 14,
      "outputs": [
        {
          "output_type": "execute_result",
          "data": {
            "text/plain": [
              "array([1, 2, 1, 1, 3, 3, 0, 2, 0, 1, 2, 2, 3, 0, 0, 1, 0, 3, 0, 2, 0, 3,\n",
              "       1, 2, 3, 2, 0, 3, 2, 1, 2, 3, 0, 3, 1, 1])"
            ]
          },
          "metadata": {
            "tags": []
          },
          "execution_count": 14
        }
      ]
    },
    {
      "cell_type": "code",
      "metadata": {
        "id": "IDr-y26Os3Gl"
      },
      "source": [
        "from sklearn.metrics import accuracy_score,classification_report,confusion_matrix"
      ],
      "execution_count": 15,
      "outputs": []
    },
    {
      "cell_type": "code",
      "metadata": {
        "colab": {
          "base_uri": "https://localhost:8080/"
        },
        "id": "64eJBDd5s5uT",
        "outputId": "6d8229e6-8c6b-4e59-966e-2a5a1b43371b"
      },
      "source": [
        "accuracy_score(y_pred,y_test)"
      ],
      "execution_count": 16,
      "outputs": [
        {
          "output_type": "execute_result",
          "data": {
            "text/plain": [
              "0.8611111111111112"
            ]
          },
          "metadata": {
            "tags": []
          },
          "execution_count": 16
        }
      ]
    },
    {
      "cell_type": "code",
      "metadata": {
        "colab": {
          "base_uri": "https://localhost:8080/"
        },
        "id": "DCYmAUQOs8aD",
        "outputId": "62f8839d-072c-47ee-889a-f2d430d0f37e"
      },
      "source": [
        "confusion_matrix(y_pred,y_test)"
      ],
      "execution_count": 17,
      "outputs": [
        {
          "output_type": "execute_result",
          "data": {
            "text/plain": [
              "array([[9, 5, 0, 0],\n",
              "       [0, 4, 0, 0],\n",
              "       [0, 0, 9, 0],\n",
              "       [0, 0, 0, 9]])"
            ]
          },
          "metadata": {
            "tags": []
          },
          "execution_count": 17
        }
      ]
    },
    {
      "cell_type": "code",
      "metadata": {
        "colab": {
          "base_uri": "https://localhost:8080/"
        },
        "id": "Mn-9SmINtJj3",
        "outputId": "42aa563b-81e7-45ad-bd49-980be3d639d8"
      },
      "source": [
        "print(classification_report(y_pred,y_test))"
      ],
      "execution_count": 18,
      "outputs": [
        {
          "output_type": "stream",
          "text": [
            "              precision    recall  f1-score   support\n",
            "\n",
            "           0       1.00      0.64      0.78        14\n",
            "           1       0.44      1.00      0.62         4\n",
            "           2       1.00      1.00      1.00         9\n",
            "           3       1.00      1.00      1.00         9\n",
            "\n",
            "    accuracy                           0.86        36\n",
            "   macro avg       0.86      0.91      0.85        36\n",
            "weighted avg       0.94      0.86      0.87        36\n",
            "\n"
          ],
          "name": "stdout"
        }
      ]
    },
    {
      "cell_type": "code",
      "metadata": {
        "id": "_JNxTxgRtKEL"
      },
      "source": [
        "import pickle\n",
        "pickle.dump(clf,open('image_model.p','wb'))"
      ],
      "execution_count": 19,
      "outputs": []
    },
    {
      "cell_type": "code",
      "metadata": {
        "id": "keSlwiZzucY6"
      },
      "source": [
        "model=pickle.load(open('image_model.p','rb'))"
      ],
      "execution_count": 20,
      "outputs": []
    },
    {
      "cell_type": "code",
      "metadata": {
        "colab": {
          "base_uri": "https://localhost:8080/",
          "height": 320
        },
        "id": "7SZW9CDftNxD",
        "outputId": "549d1028-4b70-4e75-8a43-5541f905c233"
      },
      "source": [
        "# Testing the new image\n",
        "flattened_data=[]\n",
        "url=input('Enter the url of the image')\n",
        "image = imread(url)\n",
        "image_resized=resize(image,(150,150,3))\n",
        "flattened_data.append(image_resized.flatten())\n",
        "flattened_data=np.array(flattened_data)\n",
        "print(image.shape)\n",
        "plt.imshow(image_resized)\n",
        "y_out=model.predict(flattened_data)\n",
        "y_out=contents[y_out[0]]\n",
        "print(f'Predicted output:{y_out}')"
      ],
      "execution_count": 25,
      "outputs": [
        {
          "output_type": "stream",
          "text": [
            "Enter the url of the imagehttps://upload.wikimedia.org/wikipedia/commons/1/15/Red_Apple.jpg\n",
            "(2192, 2418, 3)\n",
            "Predicted output:Apple\n"
          ],
          "name": "stdout"
        },
        {
          "output_type": "display_data",
          "data": {
            "image/png": "[encoded data removed]",
            "text/plain": [
              "<Figure size 432x288 with 1 Axes>"
            ]
          },
          "metadata": {
            "tags": [],
            "needs_background": "light"
          }
        }
      ]
    },
    {
      "cell_type": "code",
      "metadata": {
        "colab": {
          "base_uri": "https://localhost:8080/",
          "height": 1000
        },
        "id": "Ip01cASXvEjq",
        "outputId": "a2fdfc84-eed1-4a89-f600-95111b58df81"
      },
      "source": [
        "!pip install streamlit\n",
        "!pip install pyngrok==4.1.1\n",
        "from pyngrok import ngrok"
      ],
      "execution_count": 22,
      "outputs": [
        {
          "output_type": "stream",
          "text": [
            "Collecting streamlit\n",
            "\u001b[?25l  Downloading https://files.pythonhosted.org/packages/76/a6/2507aedaa1c80d39eccd601129d273f4091720f4b1031997bb52630ba504/streamlit-0.79.0-py2.py3-none-any.whl (7.0MB)\n",
            "\u001b[K     |████████████████████████████████| 7.0MB 6.6MB/s \n",
            "\u001b[?25hCollecting watchdog; platform_system != \"Darwin\"\n",
            "\u001b[?25l  Downloading https://files.pythonhosted.org/packages/c6/ba/a36ca5b4e75649a002f06531862467b3eb5c768caa23d6d88b921fe238d8/watchdog-2.0.2-py3-none-manylinux2014_x86_64.whl (74kB)\n",
            "\u001b[K     |████████████████████████████████| 81kB 9.2MB/s \n",
            "\u001b[?25hRequirement already satisfied: cachetools>=4.0 in /usr/local/lib/python3.7/dist-packages (from streamlit) (4.2.1)\n",
            "Requirement already satisfied: protobuf!=3.11,>=3.6.0 in /usr/local/lib/python3.7/dist-packages (from streamlit) (3.12.4)\n",
            "Requirement already satisfied: toml in /usr/local/lib/python3.7/dist-packages (from streamlit) (0.10.2)\n",
            "Requirement already satisfied: tornado>=5.0 in /usr/local/lib/python3.7/dist-packages (from streamlit) (5.1.1)\n",
            "Requirement already satisfied: pandas>=0.21.0 in /usr/local/lib/python3.7/dist-packages (from streamlit) (1.1.5)\n",
            "Requirement already satisfied: pillow>=6.2.0 in /usr/local/lib/python3.7/dist-packages (from streamlit) (7.0.0)\n",
            "Requirement already satisfied: astor in /usr/local/lib/python3.7/dist-packages (from streamlit) (0.8.1)\n",
            "Requirement already satisfied: pyarrow; python_version < \"3.9\" in /usr/local/lib/python3.7/dist-packages (from streamlit) (3.0.0)\n",
            "Requirement already satisfied: altair>=3.2.0 in /usr/local/lib/python3.7/dist-packages (from streamlit) (4.1.0)\n",
            "Collecting base58\n",
            "  Downloading https://files.pythonhosted.org/packages/b8/a1/d9f565e9910c09fd325dc638765e8843a19fa696275c16cc08cf3b0a3c25/base58-2.1.0-py3-none-any.whl\n",
            "Collecting blinker\n",
            "\u001b[?25l  Downloading https://files.pythonhosted.org/packages/1b/51/e2a9f3b757eb802f61dc1f2b09c8c99f6eb01cf06416c0671253536517b6/blinker-1.4.tar.gz (111kB)\n",
            "\u001b[K     |████████████████████████████████| 112kB 63.6MB/s \n",
            "\u001b[?25hRequirement already satisfied: packaging in /usr/local/lib/python3.7/dist-packages (from streamlit) (20.9)\n",
            "Collecting validators\n",
            "  Downloading https://files.pythonhosted.org/packages/db/2f/7fed3ee94ad665ad2c1de87f858f10a7785251ff75b4fd47987888d07ef1/validators-0.18.2-py3-none-any.whl\n",
            "Requirement already satisfied: python-dateutil in /usr/local/lib/python3.7/dist-packages (from streamlit) (2.8.1)\n",
            "Requirement already satisfied: numpy in /usr/local/lib/python3.7/dist-packages (from streamlit) (1.19.5)\n",
            "Requirement already satisfied: tzlocal in /usr/local/lib/python3.7/dist-packages (from streamlit) (1.5.1)\n",
            "Collecting pydeck>=0.1.dev5\n",
            "\u001b[?25l  Downloading https://files.pythonhosted.org/packages/1c/3f/8f04ae0c22d82ec7bec7fcc03270a142f637e362bbd285f7daeeda24fbef/pydeck-0.6.1-py2.py3-none-any.whl (4.6MB)\n",
            "\u001b[K     |████████████████████████████████| 4.6MB 51.3MB/s \n",
            "\u001b[?25hCollecting gitpython\n",
            "\u001b[?25l  Downloading https://files.pythonhosted.org/packages/a6/99/98019716955ba243657daedd1de8f3a88ca1f5b75057c38e959db22fb87b/GitPython-3.1.14-py3-none-any.whl (159kB)\n",
            "\u001b[K     |████████████████████████████████| 163kB 42.7MB/s \n",
            "\u001b[?25hRequirement already satisfied: requests in /usr/local/lib/python3.7/dist-packages (from streamlit) (2.23.0)\n",
            "Requirement already satisfied: click>=7.0 in /usr/local/lib/python3.7/dist-packages (from streamlit) (7.1.2)\n",
            "Requirement already satisfied: six>=1.9 in /usr/local/lib/python3.7/dist-packages (from protobuf!=3.11,>=3.6.0->streamlit) (1.15.0)\n",
            "Requirement already satisfied: setuptools in /usr/local/lib/python3.7/dist-packages (from protobuf!=3.11,>=3.6.0->streamlit) (54.1.2)\n",
            "Requirement already satisfied: pytz>=2017.2 in /usr/local/lib/python3.7/dist-packages (from pandas>=0.21.0->streamlit) (2018.9)\n",
            "Requirement already satisfied: jinja2 in /usr/local/lib/python3.7/dist-packages (from altair>=3.2.0->streamlit) (2.11.3)\n",
            "Requirement already satisfied: entrypoints in /usr/local/lib/python3.7/dist-packages (from altair>=3.2.0->streamlit) (0.3)\n",
            "Requirement already satisfied: jsonschema in /usr/local/lib/python3.7/dist-packages (from altair>=3.2.0->streamlit) (2.6.0)\n",
            "Requirement already satisfied: toolz in /usr/local/lib/python3.7/dist-packages (from altair>=3.2.0->streamlit) (0.11.1)\n",
            "Requirement already satisfied: pyparsing>=2.0.2 in /usr/local/lib/python3.7/dist-packages (from packaging->streamlit) (2.4.7)\n",
            "Requirement already satisfied: decorator>=3.4.0 in /usr/local/lib/python3.7/dist-packages (from validators->streamlit) (4.4.2)\n",
            "Collecting ipykernel>=5.1.2; python_version >= \"3.4\"\n",
            "\u001b[?25l  Downloading https://files.pythonhosted.org/packages/56/95/3a670c8b2c2370bd8631c313f42e60983b3113ffec4035940592252bd6d5/ipykernel-5.5.0-py3-none-any.whl (120kB)\n",
            "\u001b[K     |████████████████████████████████| 122kB 49.0MB/s \n",
            "\u001b[?25hRequirement already satisfied: traitlets>=4.3.2 in /usr/local/lib/python3.7/dist-packages (from pydeck>=0.1.dev5->streamlit) (5.0.5)\n",
            "Requirement already satisfied: ipywidgets>=7.0.0 in /usr/local/lib/python3.7/dist-packages (from pydeck>=0.1.dev5->streamlit) (7.6.3)\n",
            "Collecting gitdb<5,>=4.0.1\n",
            "\u001b[?25l  Downloading https://files.pythonhosted.org/packages/ea/e8/f414d1a4f0bbc668ed441f74f44c116d9816833a48bf81d22b697090dba8/gitdb-4.0.7-py3-none-any.whl (63kB)\n",
            "\u001b[K     |████████████████████████████████| 71kB 10.1MB/s \n",
            "\u001b[?25hRequirement already satisfied: certifi>=2017.4.17 in /usr/local/lib/python3.7/dist-packages (from requests->streamlit) (2020.12.5)\n",
            "Requirement already satisfied: idna<3,>=2.5 in /usr/local/lib/python3.7/dist-packages (from requests->streamlit) (2.10)\n",
            "Requirement already satisfied: chardet<4,>=3.0.2 in /usr/local/lib/python3.7/dist-packages (from requests->streamlit) (3.0.4)\n",
            "Requirement already satisfied: urllib3!=1.25.0,!=1.25.1,<1.26,>=1.21.1 in /usr/local/lib/python3.7/dist-packages (from requests->streamlit) (1.24.3)\n",
            "Requirement already satisfied: MarkupSafe>=0.23 in /usr/local/lib/python3.7/dist-packages (from jinja2->altair>=3.2.0->streamlit) (1.1.1)\n",
            "Requirement already satisfied: jupyter-client in /usr/local/lib/python3.7/dist-packages (from ipykernel>=5.1.2; python_version >= \"3.4\"->pydeck>=0.1.dev5->streamlit) (5.3.5)\n",
            "Requirement already satisfied: ipython>=5.0.0 in /usr/local/lib/python3.7/dist-packages (from ipykernel>=5.1.2; python_version >= \"3.4\"->pydeck>=0.1.dev5->streamlit) (5.5.0)\n",
            "Requirement already satisfied: ipython-genutils in /usr/local/lib/python3.7/dist-packages (from traitlets>=4.3.2->pydeck>=0.1.dev5->streamlit) (0.2.0)\n",
            "Requirement already satisfied: nbformat>=4.2.0 in /usr/local/lib/python3.7/dist-packages (from ipywidgets>=7.0.0->pydeck>=0.1.dev5->streamlit) (5.1.2)\n",
            "Requirement already satisfied: widgetsnbextension~=3.5.0 in /usr/local/lib/python3.7/dist-packages (from ipywidgets>=7.0.0->pydeck>=0.1.dev5->streamlit) (3.5.1)\n",
            "Requirement already satisfied: jupyterlab-widgets>=1.0.0; python_version >= \"3.6\" in /usr/local/lib/python3.7/dist-packages (from ipywidgets>=7.0.0->pydeck>=0.1.dev5->streamlit) (1.0.0)\n",
            "Collecting smmap<5,>=3.0.1\n",
            "  Downloading https://files.pythonhosted.org/packages/68/ee/d540eb5e5996eb81c26ceffac6ee49041d473bc5125f2aa995cf51ec1cf1/smmap-4.0.0-py2.py3-none-any.whl\n",
            "Requirement already satisfied: pyzmq>=13 in /usr/local/lib/python3.7/dist-packages (from jupyter-client->ipykernel>=5.1.2; python_version >= \"3.4\"->pydeck>=0.1.dev5->streamlit) (22.0.3)\n",
            "Requirement already satisfied: jupyter-core>=4.6.0 in /usr/local/lib/python3.7/dist-packages (from jupyter-client->ipykernel>=5.1.2; python_version >= \"3.4\"->pydeck>=0.1.dev5->streamlit) (4.7.1)\n",
            "Requirement already satisfied: simplegeneric>0.8 in /usr/local/lib/python3.7/dist-packages (from ipython>=5.0.0->ipykernel>=5.1.2; python_version >= \"3.4\"->pydeck>=0.1.dev5->streamlit) (0.8.1)\n",
            "Requirement already satisfied: prompt-toolkit<2.0.0,>=1.0.4 in /usr/local/lib/python3.7/dist-packages (from ipython>=5.0.0->ipykernel>=5.1.2; python_version >= \"3.4\"->pydeck>=0.1.dev5->streamlit) (1.0.18)\n",
            "Requirement already satisfied: pygments in /usr/local/lib/python3.7/dist-packages (from ipython>=5.0.0->ipykernel>=5.1.2; python_version >= \"3.4\"->pydeck>=0.1.dev5->streamlit) (2.6.1)\n",
            "Requirement already satisfied: pickleshare in /usr/local/lib/python3.7/dist-packages (from ipython>=5.0.0->ipykernel>=5.1.2; python_version >= \"3.4\"->pydeck>=0.1.dev5->streamlit) (0.7.5)\n",
            "Requirement already satisfied: pexpect; sys_platform != \"win32\" in /usr/local/lib/python3.7/dist-packages (from ipython>=5.0.0->ipykernel>=5.1.2; python_version >= \"3.4\"->pydeck>=0.1.dev5->streamlit) (4.8.0)\n",
            "Requirement already satisfied: notebook>=4.4.1 in /usr/local/lib/python3.7/dist-packages (from widgetsnbextension~=3.5.0->ipywidgets>=7.0.0->pydeck>=0.1.dev5->streamlit) (5.3.1)\n",
            "Requirement already satisfied: wcwidth in /usr/local/lib/python3.7/dist-packages (from prompt-toolkit<2.0.0,>=1.0.4->ipython>=5.0.0->ipykernel>=5.1.2; python_version >= \"3.4\"->pydeck>=0.1.dev5->streamlit) (0.2.5)\n",
            "Requirement already satisfied: ptyprocess>=0.5 in /usr/local/lib/python3.7/dist-packages (from pexpect; sys_platform != \"win32\"->ipython>=5.0.0->ipykernel>=5.1.2; python_version >= \"3.4\"->pydeck>=0.1.dev5->streamlit) (0.7.0)\n",
            "Requirement already satisfied: nbconvert in /usr/local/lib/python3.7/dist-packages (from notebook>=4.4.1->widgetsnbextension~=3.5.0->ipywidgets>=7.0.0->pydeck>=0.1.dev5->streamlit) (5.6.1)\n",
            "Requirement already satisfied: terminado>=0.8.1 in /usr/local/lib/python3.7/dist-packages (from notebook>=4.4.1->widgetsnbextension~=3.5.0->ipywidgets>=7.0.0->pydeck>=0.1.dev5->streamlit) (0.9.2)\n",
            "Requirement already satisfied: Send2Trash in /usr/local/lib/python3.7/dist-packages (from notebook>=4.4.1->widgetsnbextension~=3.5.0->ipywidgets>=7.0.0->pydeck>=0.1.dev5->streamlit) (1.5.0)\n",
            "Requirement already satisfied: testpath in /usr/local/lib/python3.7/dist-packages (from nbconvert->notebook>=4.4.1->widgetsnbextension~=3.5.0->ipywidgets>=7.0.0->pydeck>=0.1.dev5->streamlit) (0.4.4)\n",
            "Requirement already satisfied: bleach in /usr/local/lib/python3.7/dist-packages (from nbconvert->notebook>=4.4.1->widgetsnbextension~=3.5.0->ipywidgets>=7.0.0->pydeck>=0.1.dev5->streamlit) (3.3.0)\n",
            "Requirement already satisfied: pandocfilters>=1.4.1 in /usr/local/lib/python3.7/dist-packages (from nbconvert->notebook>=4.4.1->widgetsnbextension~=3.5.0->ipywidgets>=7.0.0->pydeck>=0.1.dev5->streamlit) (1.4.3)\n",
            "Requirement already satisfied: mistune<2,>=0.8.1 in /usr/local/lib/python3.7/dist-packages (from nbconvert->notebook>=4.4.1->widgetsnbextension~=3.5.0->ipywidgets>=7.0.0->pydeck>=0.1.dev5->streamlit) (0.8.4)\n",
            "Requirement already satisfied: defusedxml in /usr/local/lib/python3.7/dist-packages (from nbconvert->notebook>=4.4.1->widgetsnbextension~=3.5.0->ipywidgets>=7.0.0->pydeck>=0.1.dev5->streamlit) (0.7.1)\n",
            "Requirement already satisfied: webencodings in /usr/local/lib/python3.7/dist-packages (from bleach->nbconvert->notebook>=4.4.1->widgetsnbextension~=3.5.0->ipywidgets>=7.0.0->pydeck>=0.1.dev5->streamlit) (0.5.1)\n",
            "Building wheels for collected packages: blinker\n",
            "  Building wheel for blinker (setup.py) ... \u001b[?25l\u001b[?25hdone\n",
            "  Created wheel for blinker: filename=blinker-1.4-cp37-none-any.whl size=13448 sha256=4914e63b46fb4167159add4df9f9d2ee5b5e2a5ad76135ab092dc62f4e2f4d33\n",
            "  Stored in directory: /root/.cache/pip/wheels/92/a0/00/8690a57883956a301d91cf4ec999cc0b258b01e3f548f86e89\n",
            "Successfully built blinker\n",
            "\u001b[31mERROR: google-colab 1.0.0 has requirement ipykernel~=4.10, but you'll have ipykernel 5.5.0 which is incompatible.\u001b[0m\n",
            "Installing collected packages: watchdog, base58, blinker, validators, ipykernel, pydeck, smmap, gitdb, gitpython, streamlit\n",
            "  Found existing installation: ipykernel 4.10.1\n",
            "    Uninstalling ipykernel-4.10.1:\n",
            "      Successfully uninstalled ipykernel-4.10.1\n",
            "Successfully installed base58-2.1.0 blinker-1.4 gitdb-4.0.7 gitpython-3.1.14 ipykernel-5.5.0 pydeck-0.6.1 smmap-4.0.0 streamlit-0.79.0 validators-0.18.2 watchdog-2.0.2\n"
          ],
          "name": "stdout"
        },
        {
          "output_type": "display_data",
          "data": {
            "application/vnd.colab-display-data+json": {
              "pip_warning": {
                "packages": [
                  "ipykernel"
                ]
              }
            }
          },
          "metadata": {
            "tags": []
          }
        },
        {
          "output_type": "stream",
          "text": [
            "Collecting pyngrok==4.1.1\n",
            "  Downloading https://files.pythonhosted.org/packages/e4/a9/de2e15c92eb3aa4a2646ce3a7542317eb69ac47f667578ce8bf916320847/pyngrok-4.1.1.tar.gz\n",
            "Requirement already satisfied: future in /usr/local/lib/python3.7/dist-packages (from pyngrok==4.1.1) (0.16.0)\n",
            "Requirement already satisfied: PyYAML in /usr/local/lib/python3.7/dist-packages (from pyngrok==4.1.1) (3.13)\n",
            "Building wheels for collected packages: pyngrok\n",
            "  Building wheel for pyngrok (setup.py) ... \u001b[?25l\u001b[?25hdone\n",
            "  Created wheel for pyngrok: filename=pyngrok-4.1.1-cp37-none-any.whl size=15971 sha256=d9d7352f0e105030bbf4eb82e57db992d35d8bd4e61e5434b6b46eeeee8514e7\n",
            "  Stored in directory: /root/.cache/pip/wheels/97/71/0d/1695f7c8815c0beb3b5d9b35d6eec9243c87e6070fbe3977fa\n",
            "Successfully built pyngrok\n",
            "Installing collected packages: pyngrok\n",
            "Successfully installed pyngrok-4.1.1\n"
          ],
          "name": "stdout"
        }
      ]
    },
    {
      "cell_type": "code",
      "metadata": {
        "colab": {
          "base_uri": "https://localhost:8080/"
        },
        "id": "6fM26sW4tR3S",
        "outputId": "ffcb5239-4ff6-4ced-c624-6e130e3ef4fe"
      },
      "source": [
        "# Deployment with web apps\n",
        "%%writefile app.py\n",
        "import streamlit as st\n",
        "import numpy as np\n",
        "from skimage.io import imread\n",
        "from skimage.transform import resize\n",
        "import pickle\n",
        "from PIL import Image\n",
        "st.title('Image Classification using Machine Learning')\n",
        "st.text('Upload the image')\n",
        "model=pickle.load(open('image_model.p','rb'))\n",
        "uploaded_file=st.file_uploader(\"Choose an image....\",type=\"jpg\")\n",
        "if uploaded_file is not None:\n",
        "  image=Image.open(uploaded_file)\n",
        "  st.image(image,caption=\"Image Uploaded\")\n",
        "\n",
        "  if st.button('PREDICT'):\n",
        "    contents=['Apple','Banana','Oranges','Kiwi']\n",
        "    st.write('Result....')\n",
        "    flattened_data=[]\n",
        "    image=np.array(image)\n",
        "    image_resized=resize(image,(150,150,3))\n",
        "    flattened_data.append(image_resized.flatten())\n",
        "    flattened_data=np.array(flattened_data)\n",
        "    print(image.shape)\n",
        "    y_out=model.predict(flattened_data)\n",
        "    y_out=contents[y_out[0]]\n",
        "    st.write(f'Predicted output:{y_out}')\n",
        "    percentage_range=model.predict_proba(flattened_data)\n",
        "    for index, item in enumerate(contents):\n",
        "      st.write(f'{item}:{percentage_range[0][index]*100}%')"
      ],
      "execution_count": 23,
      "outputs": [
        {
          "output_type": "stream",
          "text": [
            "Writing app.py\n"
          ],
          "name": "stdout"
        }
      ]
    },
    {
      "cell_type": "code",
      "metadata": {
        "colab": {
          "base_uri": "https://localhost:8080/"
        },
        "id": "dbuybnI9vS09",
        "outputId": "1b622e46-09d5-4d1e-ee2a-122dfb745793"
      },
      "source": [
        "!nohup streamlit run app.py &\n",
        "url = ngrok.connect(port='8501')\n",
        "print(url)"
      ],
      "execution_count": 24,
      "outputs": [
        {
          "output_type": "stream",
          "text": [
            "nohup: appending output to 'nohup.out'\n",
            "http://494cbf07c18d.ngrok.io\n"
          ],
          "name": "stdout"
        }
      ]
    },
    {
      "cell_type": "code",
      "metadata": {
        "id": "fUhSrjaTv5gk"
      },
      "source": [
        ""
      ],
      "execution_count": 24,
      "outputs": []
    }
  ]
}